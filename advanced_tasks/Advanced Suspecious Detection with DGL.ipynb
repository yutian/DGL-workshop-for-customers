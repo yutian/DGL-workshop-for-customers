{
 "cells": [
  {
   "cell_type": "markdown",
   "metadata": {},
   "source": [
    "# DGL反欺诈项目实践\n",
    "\n"
   ]
  },
  {
   "cell_type": "code",
   "execution_count": null,
   "metadata": {},
   "outputs": [],
   "source": []
  },
  {
   "cell_type": "code",
   "execution_count": 9,
   "metadata": {},
   "outputs": [],
   "source": [
    "# 首先导入需要的包\n",
    "import dgl\n",
    "import torch as th\n",
    "import torch.nn as nn"
   ]
  },
  {
   "cell_type": "markdown",
   "metadata": {},
   "source": [
    "## 使用小样例数据完成对模型的验证"
   ]
  },
  {
   "cell_type": "code",
   "execution_count": 3,
   "metadata": {},
   "outputs": [],
   "source": [
    "def build_xy_graph(u, v):\n",
    "\n",
    "    graph = dgl.heterograph(\n",
    "        {('user', 'comment_on', 'item'): (u, v),\n",
    "         ('item', 'commentdd_by', 'user'): (v, u)}\n",
    "    )\n",
    "\n",
    "    return graph\n",
    "\n",
    "u = [0,1,2,1,1,3,4,4]\n",
    "v = [0,0,0,1,2,1,1,2]\n",
    "\n",
    "xy_graph = build_xy_graph(u, v)"
   ]
  },
  {
   "cell_type": "markdown",
   "metadata": {},
   "source": [
    "## 构建模型\n",
    "\n",
    "1. 构建一个边分类GNN模型的一个层；\n",
    "2. 使用层来构建GNN的模型。\n",
    "\n",
    "下面首先构建GNN的一层。"
   ]
  },
  {
   "cell_type": "code",
   "execution_count": 7,
   "metadata": {},
   "outputs": [],
   "source": [
    "class layer(nn.Module):\n",
    "    \"\"\"\n",
    "    This layer is designed specifically for user Xianyu Graph algorithm.\n",
    "    \"\"\"\n",
    "    def __init__(self, d_u_in, d_u_out, d_e_in, d_e_out, d_i_in, d_i_out):\n",
    "        super(layer, self).__init__()\n",
    "        self.act = F.relu\n",
    "\n",
    "        # The Weight in formula (3). Use a different way to implement concatinate and linear transform\n",
    "        self.W_Ee = nn.Linear(d_e_in, d_e_out, bias=False)\n",
    "        self.W_Eu = nn.Linear(d_u_in, d_e_out, bias=False)\n",
    "        self.W_Ei = nn.Linear(d_i_in, d_e_out, bias=False)\n",
    "\n",
    "        # weight parameter in formula (7), will do it in two ways, u->i and i->u\n",
    "        # 1. i -> u\n",
    "        self.d_attn_ie_in = d_e_in + d_i_in\n",
    "        self.d_attn_u_out = self.d_attn_ie_in\n",
    "        self.W_ATTN_ie = nn.Linear(self.d_attn_ie_in, self.d_attn_u_out, bias=False)\n",
    "        self.W_ATTN_u = nn.Linear(d_u_in, self.d_attn_u_out, bias=False)\n",
    "\n",
    "        # 2. u -> i\n",
    "        self.d_attn_ue_in = d_e_in + d_u_in\n",
    "        self.d_attn_i_out = self.d_attn_u_out\n",
    "        self.W_ATTN_ue = nn.Linear(self.d_attn_ue_in, self.d_attn_i_out, bias=False)\n",
    "        self.W_ATTN_i = nn.Linear(d_i_in, self.d_attn_i_out, bias=False)\n",
    "\n",
    "        # weight parameter in formula (5)\n",
    "        self.d_wu_in = self.d_attn_u_out\n",
    "        self.d_wu_out = int(d_u_out / 2)\n",
    "        self.W_nu = nn.Linear(self.d_wu_in, self.d_wu_out, bias=False)\n",
    "\n",
    "        self.d_wi_in = self.d_attn_i_out\n",
    "        self.d_wi_out = int(d_i_out / 2)\n",
    "        self.W_ni = nn.Linear(self.d_wi_in, self.d_wi_out, bias=False)\n",
    "\n",
    "        # weight parameters in formula (8）\n",
    "        self.d_vu_out = d_u_out - self.d_wu_out\n",
    "        self.W_u = nn.Linear(d_u_in, self.d_vu_out, bias=False)\n",
    "\n",
    "        self.d_vi_out = d_i_out - self.d_wi_out\n",
    "        self.W_i = nn.Linear(d_i_in, self.d_vi_out, bias=False)\n",
    "        \n",
    "        \n",
    "    def forward(self, graph, u_feats, e_feats, i_feats):\n",
    "        \"\"\"\n",
    "        Specificlly For this algorithm, feat_dict has 3 types of features:\n",
    "        'User': l-1 layer's user features, in dict {'u': features}\n",
    "        'Edge': l-1 layer's edge features, in dict {'e': features}\n",
    "        'Item': l-1 layer's note features, in dict {'i': features}\n",
    "\n",
    "        This version, we have one edge but two types:\n",
    "            - 'comment_on'\n",
    "            - 'commented_by'\n",
    "\n",
    "        :param graph: bi-partitie\n",
    "        :return:\n",
    "        \"\"\"\n",
    "        # assign values\n",
    "        graph.nodes['user'].data['u'] = u_feats\n",
    "        graph.nodes['item'].data['i'] = i_feats\n",
    "        graph.edges['comment_on'].data['e'] = e_feats\n",
    "        graph.edges['commented_by'].data['e'] = e_feats\n",
    "\n",
    "        # formula 6\n",
    "        graph.apply_edges(lambda edges: {'h_ie': th.cat([edges.src['i'], edges.data['e']], dim=-1)}, etype='commented_by')\n",
    "        graph.apply_edges(lambda edges: {'h_ue': th.cat([edges.src['u'], edges.data['e']], dim=-1)}, etype='comment_on')\n",
    "\n",
    "        # formula 7, self_attension\n",
    "        graph.nodes['user'].data['h_attnu'] = self.W_ATTN_u(u_feats)\n",
    "        graph.nodes['item'].data['h_attni'] = self.W_ATTN_i(i_feats)\n",
    "        graph.edges['commented_by'].data['h_attne'] = self.W_ATTN_ie(graph.edges['commented_by'].data['h_ie'])\n",
    "        graph.edges['comment_on'].data['h_attne'] = self.W_ATTN_ue(graph.edges['comment_on'].data['h_ue'])\n",
    "\n",
    "        # Step 1: dot product\n",
    "        graph.apply_edges(fn.e_dot_v('h_attne', 'h_attnu', 'edotv'), etype='commented_by')\n",
    "        graph.apply_edges(fn.e_dot_v('h_attne', 'h_attni', 'edotv'), etype='comment_on')\n",
    "\n",
    "        # Step 2. softmax\n",
    "        graph.edges['commented_by'].data['sfm'] = edge_softmax(graph['commented_by'], graph.edges['commented_by'].data['edotv'])\n",
    "        graph.edges['comment_on'].data['sfm'] = edge_softmax(graph['comment_on'], graph.edges['comment_on'].data['edotv'])\n",
    "\n",
    "        # Step 3. Broadcast softmax value to each edge, and then attention is done\n",
    "        graph.apply_edges(lambda edges: {'attn': edges.data['h_attne'] * edges.data['sfm'].unsqueeze(dim=0).T},\n",
    "                          etype='commented_by')\n",
    "        graph.apply_edges(lambda edges: {'attn': edges.data['h_attne'] * edges.data['sfm'].unsqueeze(dim=0).T},\n",
    "                          etype='comment_on')\n",
    "\n",
    "        # Step 4. Aggregate attention to dst,user nodes, so formula 7 is done\n",
    "        graph.update_all(fn.copy_e('attn', 'm'), fn.sum('m', 'agg_u'), etype='commented_by')\n",
    "        graph.update_all(fn.copy_e('attn', 'm'), fn.sum('m', 'agg_i'), etype='comment_on')\n",
    "\n",
    "        # formula 5\n",
    "        graph.nodes['user'].data['h_nu'] = self.act(self.W_nu(graph.nodes['user'].data['agg_u']))\n",
    "        graph.nodes['item'].data['h_ni'] = self.act(self.W_ni(graph.nodes['item'].data['agg_i']))\n",
    "\n",
    "        # formula 8\n",
    "        graph.nodes['user'].data['u'] = th.cat([self.W_u(u_feats), graph.nodes['user'].data['h_nu']], dim=-1)\n",
    "        graph.nodes['item'].data['i'] = th.cat([self.W_i(i_feats), graph.nodes['item'].data['h_ni']], dim=-1)\n",
    "\n",
    "        # formula 3 and 4\n",
    "        # first compute 3 matrix multiply\n",
    "        graph.edges['comment_on'].data['h_e'] = self.W_Ee(e_feats)\n",
    "        graph.edges['commented_by'].data['h_e'] = self.W_Ee(e_feats)\n",
    "        graph.nodes['user'].data['h_u4e'] = self.W_Eu(u_feats)\n",
    "        graph.nodes['item'].data['h_i4e'] = self.W_Ei(i_feats)\n",
    "\n",
    "        # formula 3, add them up\n",
    "        graph.apply_edges(fn.u_add_e('h_u4e', 'h_e', 'h_ue'), etype='comment_on')\n",
    "        graph.apply_edges(fn.e_add_v('h_ue', 'h_i4e', 'e'), etype='comment_on')\n",
    "        graph.edges['comment_on'].data['e'] = self.act(graph.edges['comment_on'].data['e'])\n",
    "\n",
    "        graph.edges['commented_by'].data['e'] = graph.edges['comment_on'].data['e']\n",
    "\n",
    "        u_feats = graph.nodes['user'].data['u']\n",
    "        e_feats = graph.edges['comment_on'].data['e']\n",
    "        i_feats = graph.nodes['item'].data['i']\n",
    "\n",
    "        return u_feats, e_feats, i_feats"
   ]
  },
  {
   "cell_type": "code",
   "execution_count": 8,
   "metadata": {},
   "outputs": [],
   "source": [
    "class Algorithm_Model(nn.Module):\n",
    "\n",
    "    def __init__(self, u_in_dim, u_hidden_dim, u_out_dim,\n",
    "                 e_in_dim, e_hidden_dim, e_out_dim,\n",
    "                 i_in_dim, i_hidden_dim, i_out_dim):\n",
    "\n",
    "        super(Algorithm_Model, self).__init__()\n",
    "        self.layer_1 = layer(u_in_dim, u_hidden_dim, e_in_dim, e_hidden_dim, i_in_dim, i_hidden_dim)\n",
    "        self.layer_2 = layer(u_hidden_dim, u_out_dim, e_hidden_dim, e_out_dim, i_hidden_dim, i_out_dim)\n",
    "\n",
    "    def forward(self, graph, u_features, e_features, i_features):\n",
    "        h_u, h_e, h_i = self.layer_1(graph, u_features, e_features, i_features)\n",
    "        h_u = F.relu(h_u)\n",
    "        h_e = F.relu(h_e)\n",
    "        h_i = F.relu(h_i)\n",
    "        h_u, h_e, h_i = self.layer_2(graph, h_u, h_e, h_i)\n",
    "\n",
    "        # use graph to concat user nodes logits and item nodes logits to the edges\n",
    "        # assign values\n",
    "        graph.nodes['user'].data['u'] = h_u\n",
    "        graph.nodes['item'].data['i'] = h_i\n",
    "        graph.edges['comment_on'].data['e'] = h_e\n",
    "\n",
    "        graph.apply_edges(lambda edges:\n",
    "                          {'output': th.cat([edges.src['u'], edges.data['e'], edges.dst['i']], dim=-1)}, etype='comment_on')\n",
    "\n",
    "        return graph.edges['comment_on'].data['output']"
   ]
  },
  {
   "cell_type": "markdown",
   "metadata": {},
   "source": [
    "### 通过样例数据了解模型内部运作"
   ]
  },
  {
   "cell_type": "code",
   "execution_count": null,
   "metadata": {},
   "outputs": [],
   "source": []
  },
  {
   "cell_type": "markdown",
   "metadata": {},
   "source": [
    "### 实验数据全图训练"
   ]
  },
  {
   "cell_type": "code",
   "execution_count": null,
   "metadata": {},
   "outputs": [],
   "source": [
    "# "
   ]
  }
 ],
 "metadata": {
  "kernelspec": {
   "display_name": "Python 3",
   "language": "python",
   "name": "python3"
  },
  "language_info": {
   "codemirror_mode": {
    "name": "ipython",
    "version": 3
   },
   "file_extension": ".py",
   "mimetype": "text/x-python",
   "name": "python",
   "nbconvert_exporter": "python",
   "pygments_lexer": "ipython3",
   "version": "3.6.10"
  }
 },
 "nbformat": 4,
 "nbformat_minor": 2
}
